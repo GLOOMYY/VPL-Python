{
 "cells": [
  {
   "cell_type": "markdown",
   "id": "ec1ed49e",
   "metadata": {},
   "source": [
    "- Importar el dataset\n",
    "- Imprimir los primeros 5 datos\n",
    "- Encontrar la longitud del dataset\n",
    "- Imprimir los encabezados\n",
    "- Obtener un sub dataFrame con películas desde 1980 hasta la actualidad\n",
    "- Dado el sub data Frame anterior: encontrar la película más corta, la menos rentable y el promedio de duración\n",
    "- Encontrar la desviación estándar de las calificaciones de la película en el sub dataFrame • Encontrar el promedio de votos agrupados género\n",
    "- Encontrar los directores y el número de ocurrencias en el dataset, ordenados descendentemente\n",
    "- Encontrar la películas mejor calificadas y que pertenezcan incluyan estos 3 géneros (Horror, Mystery, Sci-Fi)\n"
   ]
  },
  {
   "cell_type": "code",
   "execution_count": 1,
   "id": "6a27ce90",
   "metadata": {},
   "outputs": [],
   "source": [
    "import numpy as np\n",
    "import pandas as pd"
   ]
  },
  {
   "cell_type": "code",
   "execution_count": 6,
   "id": "aeb84d49",
   "metadata": {},
   "outputs": [],
   "source": [
    "# Importar el dataset\n",
    "df = pd.read_csv('./Horror Movies IMDb.csv')"
   ]
  },
  {
   "cell_type": "code",
   "execution_count": 9,
   "id": "d0022e6b",
   "metadata": {},
   "outputs": [
    {
     "data": {
      "text/html": [
       "<div>\n",
       "<style scoped>\n",
       "    .dataframe tbody tr th:only-of-type {\n",
       "        vertical-align: middle;\n",
       "    }\n",
       "\n",
       "    .dataframe tbody tr th {\n",
       "        vertical-align: top;\n",
       "    }\n",
       "\n",
       "    .dataframe thead th {\n",
       "        text-align: right;\n",
       "    }\n",
       "</style>\n",
       "<table border=\"1\" class=\"dataframe\">\n",
       "  <thead>\n",
       "    <tr style=\"text-align: right;\">\n",
       "      <th></th>\n",
       "      <th>Movie Title</th>\n",
       "      <th>Movie Year</th>\n",
       "      <th>Runtime</th>\n",
       "      <th>Genre</th>\n",
       "      <th>Rating</th>\n",
       "      <th>Director</th>\n",
       "      <th>Votes</th>\n",
       "      <th>Gross</th>\n",
       "    </tr>\n",
       "  </thead>\n",
       "  <tbody>\n",
       "    <tr>\n",
       "      <th>0</th>\n",
       "      <td>Alien</td>\n",
       "      <td>1979</td>\n",
       "      <td>117</td>\n",
       "      <td>Horror, Sci-Fi</td>\n",
       "      <td>8.5</td>\n",
       "      <td>Ridley Scott</td>\n",
       "      <td>9,05,275</td>\n",
       "      <td>$78.90M</td>\n",
       "    </tr>\n",
       "    <tr>\n",
       "      <th>1</th>\n",
       "      <td>Psycho</td>\n",
       "      <td>1960</td>\n",
       "      <td>109</td>\n",
       "      <td>Horror, Mystery, Thriller</td>\n",
       "      <td>8.5</td>\n",
       "      <td>Alfred Hitchcock</td>\n",
       "      <td>6,89,068</td>\n",
       "      <td>$32.00M</td>\n",
       "    </tr>\n",
       "    <tr>\n",
       "      <th>2</th>\n",
       "      <td>The Shining</td>\n",
       "      <td>1980</td>\n",
       "      <td>146</td>\n",
       "      <td>Drama, Horror</td>\n",
       "      <td>8.4</td>\n",
       "      <td>Stanley Kubrick</td>\n",
       "      <td>10,51,582</td>\n",
       "      <td>$44.02M</td>\n",
       "    </tr>\n",
       "    <tr>\n",
       "      <th>3</th>\n",
       "      <td>The Thing</td>\n",
       "      <td>1982</td>\n",
       "      <td>109</td>\n",
       "      <td>Horror, Mystery, Sci-Fi</td>\n",
       "      <td>8.2</td>\n",
       "      <td>John Carpenter</td>\n",
       "      <td>4,39,793</td>\n",
       "      <td>$13.78M</td>\n",
       "    </tr>\n",
       "    <tr>\n",
       "      <th>4</th>\n",
       "      <td>Tumbbad</td>\n",
       "      <td>2018</td>\n",
       "      <td>104</td>\n",
       "      <td>Drama, Fantasy, Horror</td>\n",
       "      <td>8.2</td>\n",
       "      <td>Rahi Anil Barve</td>\n",
       "      <td>53,297</td>\n",
       "      <td>NaN</td>\n",
       "    </tr>\n",
       "  </tbody>\n",
       "</table>\n",
       "</div>"
      ],
      "text/plain": [
       "   Movie Title  Movie Year  Runtime                      Genre  Rating  \\\n",
       "0        Alien        1979      117             Horror, Sci-Fi     8.5   \n",
       "1       Psycho        1960      109  Horror, Mystery, Thriller     8.5   \n",
       "2  The Shining        1980      146              Drama, Horror     8.4   \n",
       "3    The Thing        1982      109    Horror, Mystery, Sci-Fi     8.2   \n",
       "4      Tumbbad        2018      104     Drama, Fantasy, Horror     8.2   \n",
       "\n",
       "           Director      Votes    Gross  \n",
       "0      Ridley Scott   9,05,275  $78.90M  \n",
       "1  Alfred Hitchcock   6,89,068  $32.00M  \n",
       "2   Stanley Kubrick  10,51,582  $44.02M  \n",
       "3    John Carpenter   4,39,793  $13.78M  \n",
       "4   Rahi Anil Barve     53,297      NaN  "
      ]
     },
     "execution_count": 9,
     "metadata": {},
     "output_type": "execute_result"
    }
   ],
   "source": [
    "# Imprimir los primeros 5 datos\n",
    "df.head(5)"
   ]
  },
  {
   "cell_type": "code",
   "execution_count": 17,
   "id": "25e2f779",
   "metadata": {},
   "outputs": [
    {
     "name": "stdout",
     "output_type": "stream",
     "text": [
      "Filas: 836 \n",
      "Columnas: 8\n"
     ]
    }
   ],
   "source": [
    "# Encontrar la longitud del dataset\n",
    "\n",
    "filas, columnas = df.shape\n",
    "print(f'Filas: {filas} \\nColumnas: {columnas}')"
   ]
  },
  {
   "cell_type": "code",
   "execution_count": 23,
   "id": "e950aae8",
   "metadata": {},
   "outputs": [
    {
     "name": "stdout",
     "output_type": "stream",
     "text": [
      "Movie Title\n",
      "Movie Year\n",
      "Runtime\n",
      "Genre\n",
      "Rating\n",
      "Director\n",
      "Votes\n",
      "Gross\n"
     ]
    },
    {
     "data": {
      "text/plain": [
       "[None, None, None, None, None, None, None, None]"
      ]
     },
     "execution_count": 23,
     "metadata": {},
     "output_type": "execute_result"
    }
   ],
   "source": [
    "# Imprimir los encabezados\n",
    "[print(column) for column in list(df.columns)]"
   ]
  }
 ],
 "metadata": {
  "kernelspec": {
   "display_name": "Python 3 (ipykernel)",
   "language": "python",
   "name": "python3"
  },
  "language_info": {
   "codemirror_mode": {
    "name": "ipython",
    "version": 3
   },
   "file_extension": ".py",
   "mimetype": "text/x-python",
   "name": "python",
   "nbconvert_exporter": "python",
   "pygments_lexer": "ipython3",
   "version": "3.11.4"
  }
 },
 "nbformat": 4,
 "nbformat_minor": 5
}
